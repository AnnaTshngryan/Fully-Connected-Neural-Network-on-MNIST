{
 "cells": [
  {
   "cell_type": "code",
   "execution_count": 19,
   "metadata": {},
   "outputs": [],
   "source": [
    "import torch\n",
    "import torch.nn as nn\n",
    "import numpy as np"
   ]
  },
  {
   "cell_type": "code",
   "execution_count": 20,
   "metadata": {},
   "outputs": [],
   "source": [
    "path = \"../Data/\""
   ]
  },
  {
   "cell_type": "code",
   "execution_count": 21,
   "metadata": {},
   "outputs": [],
   "source": [
    "X_train = np.load(path + 'X_train.npy')/255\n",
    "X_test = np.load(path + 'X_test.npy')/255\n",
    "y_train = np.load(path + 'y_train.npy')\n",
    "y_test = np.load(path + 'y_test.npy')"
   ]
  },
  {
   "cell_type": "code",
   "execution_count": 22,
   "metadata": {},
   "outputs": [],
   "source": [
    "X_train = torch.tensor(X_train, dtype=torch.float32).view(-1, 28*28)\n",
    "y_train = torch.tensor(y_train, dtype=torch.long).view(-1)\n",
    "X_test = torch.tensor(X_test, dtype=torch.float32).view(-1, 28*28)\n",
    "y_test = torch.tensor(y_test, dtype=torch.long).view(-1)"
   ]
  },
  {
   "cell_type": "code",
   "execution_count": 23,
   "metadata": {},
   "outputs": [
    {
     "data": {
      "text/plain": [
       "(torch.Size([60000, 784]), torch.Size([60000]))"
      ]
     },
     "execution_count": 23,
     "metadata": {},
     "output_type": "execute_result"
    }
   ],
   "source": [
    "X_train.shape, y_train.shape"
   ]
  },
  {
   "cell_type": "markdown",
   "metadata": {},
   "source": [
    "### 784 -> 64 -> 64 -> 32 -> 32 -> 10"
   ]
  },
  {
   "cell_type": "code",
   "execution_count": 29,
   "metadata": {},
   "outputs": [],
   "source": [
    "class Net(torch.nn.Module):\n",
    "    def __init__(self):\n",
    "        super(Net, self).__init__()\n",
    "        self.fc1 = nn.Linear(28*28, 512)\n",
    "        self.fc2 = nn.Linear(512, 512)\n",
    "        self.fc3 = nn.Linear(512, 256)\n",
    "        self.fc4 = nn.Linear(256, 64)\n",
    "        self.fc5 = nn.Linear(64, 10)\n",
    "        \n",
    "        self.relu = nn.ReLU()\n",
    "\n",
    "    def forward(self, x):\n",
    "        x = self.relu(self.fc1(x))\n",
    "        x = self.relu(self.fc2(x))\n",
    "        x = self.relu(self.fc3(x))\n",
    "        x = self.relu(self.fc4(x))\n",
    "        x = self.fc5(x)        \n",
    "        return x"
   ]
  },
  {
   "cell_type": "code",
   "execution_count": 37,
   "metadata": {},
   "outputs": [],
   "source": [
    "model = Net()"
   ]
  },
  {
   "cell_type": "code",
   "execution_count": 31,
   "metadata": {},
   "outputs": [
    {
     "data": {
      "text/plain": [
       "Parameter containing:\n",
       "tensor([[-0.0246,  0.0353, -0.0206,  ...,  0.0109,  0.0299, -0.0251],\n",
       "        [-0.0146,  0.0079, -0.0103,  ..., -0.0240,  0.0184, -0.0046],\n",
       "        [ 0.0150,  0.0288, -0.0321,  ...,  0.0217,  0.0222, -0.0119],\n",
       "        ...,\n",
       "        [ 0.0190, -0.0106,  0.0195,  ..., -0.0340,  0.0050, -0.0235],\n",
       "        [ 0.0349, -0.0054, -0.0232,  ...,  0.0032,  0.0301,  0.0026],\n",
       "        [-0.0028,  0.0304, -0.0205,  ..., -0.0121,  0.0298,  0.0099]],\n",
       "       requires_grad=True)"
      ]
     },
     "execution_count": 31,
     "metadata": {},
     "output_type": "execute_result"
    }
   ],
   "source": [
    "list(model.parameters())[0] #W1"
   ]
  },
  {
   "cell_type": "code",
   "execution_count": 32,
   "metadata": {},
   "outputs": [
    {
     "data": {
      "text/plain": [
       "Net(\n",
       "  (fc1): Linear(in_features=784, out_features=512, bias=True)\n",
       "  (fc2): Linear(in_features=512, out_features=512, bias=True)\n",
       "  (fc3): Linear(in_features=512, out_features=256, bias=True)\n",
       "  (fc4): Linear(in_features=256, out_features=64, bias=True)\n",
       "  (fc5): Linear(in_features=64, out_features=10, bias=True)\n",
       "  (relu): ReLU()\n",
       ")"
      ]
     },
     "execution_count": 32,
     "metadata": {},
     "output_type": "execute_result"
    }
   ],
   "source": [
    "model"
   ]
  },
  {
   "cell_type": "code",
   "execution_count": 43,
   "metadata": {},
   "outputs": [
    {
     "data": {
      "text/plain": [
       "array([8, 5, 3, 2, 9, 1, 6, 0, 7, 4], dtype=int64)"
      ]
     },
     "execution_count": 43,
     "metadata": {},
     "output_type": "execute_result"
    }
   ],
   "source": [
    "np.random.permutation(torch.arange(10))"
   ]
  },
  {
   "cell_type": "code",
   "execution_count": 46,
   "metadata": {},
   "outputs": [],
   "source": [
    "def get_batch_index(m, b): #m data size, b batch size\n",
    "    indexes = np.random.permutation(torch.arange(m))    \n",
    "    for i in range(0, m, b):\n",
    "        yield indexes[i:i+b]"
   ]
  },
  {
   "cell_type": "code",
   "execution_count": 47,
   "metadata": {},
   "outputs": [
    {
     "name": "stdout",
     "output_type": "stream",
     "text": [
      "[58 98 85 46 25 24 36 17 15 97 14 77 68 81 73  4]\n",
      "[91 59 61 78 99  0 35 41 10 75 51 19 60 93 39 67]\n",
      "[ 7 65 45 70 33  8 32 86 28  1 88 26 56 18 95 54]\n",
      "[12 40 42 80 89 38  9 23 90 57 27 82 21 22 50 31]\n",
      "[55 44 69  2 13 34 37  6 20 94 87 66 76 11 47 74]\n",
      "[30 92 96 72 48 71 84 62  3 63 29 64 49  5 79 83]\n",
      "[16 53 52 43]\n"
     ]
    }
   ],
   "source": [
    "for ind in get_batch_index(100, 16):\n",
    "    print(ind)"
   ]
  },
  {
   "cell_type": "code",
   "execution_count": 48,
   "metadata": {},
   "outputs": [
    {
     "name": "stdout",
     "output_type": "stream",
     "text": [
      "Train Loss: 0.3000472282648087 Train Acc: 0.8896833333333334\n",
      "Test Loss: 0.33963531460762025 Test Acc: 0.8758\n",
      "====================\n",
      "Train Loss: 0.27873550991217294 Train Acc: 0.8968833333333334\n",
      "Test Loss: 0.36269821648597717 Test Acc: 0.8731\n",
      "====================\n"
     ]
    }
   ],
   "source": [
    "learning_rate = 0.001\n",
    "epochs = 2\n",
    "batch_size = 64\n",
    "m = X_train.shape[0]\n",
    "test_size = X_test.shape[0]\n",
    "\n",
    "crossentropy = torch.nn.CrossEntropyLoss()\n",
    "optimizer = torch.optim.Adam(model.parameters(), lr=learning_rate)\n",
    "\n",
    "for epoch in range(epochs):\n",
    "    epoch_loss = 0\n",
    "    epoch_acc = 0\n",
    "    \n",
    "    for batch_i in get_batch_index(m, batch_size):\n",
    "        X_batch = X_train[batch_i]\n",
    "        y_batch = y_train[batch_i]\n",
    "        \n",
    "        optimizer.zero_grad()\n",
    "\n",
    "        out = model(X_batch)\n",
    "        \n",
    "        loss = crossentropy(out, y_batch)\n",
    "        loss.backward()\n",
    "        \n",
    "        optimizer.step()\n",
    "        \n",
    "        epoch_loss += loss.item()\n",
    "        \n",
    "        predictions = torch.argmax(out, 1)\n",
    "        epoch_acc += torch.sum(predictions == y_batch).item()\n",
    "    \n",
    "    test_loss = 0\n",
    "    test_acc = 0\n",
    "    for batch_i in range(0, test_size, batch_size):\n",
    "        X_batch = X_test[batch_i:batch_i+batch_size]\n",
    "        y_batch = y_test[batch_i:batch_i+batch_size]\n",
    "        \n",
    "        out = model(X_batch)\n",
    "        \n",
    "        loss = crossentropy(out, y_batch)\n",
    "        test_loss += loss.item()\n",
    "        predictions = torch.argmax(out, 1)\n",
    "        test_acc += torch.sum(predictions == y_batch).item()\n",
    "        \n",
    "    print(\"Train Loss:\", epoch_loss/(m/batch_size), \"Train Acc:\", epoch_acc/m)\n",
    "    print(\"Test Loss:\", test_loss/(test_size/batch_size), \"Test Acc:\", test_acc/test_size)\n",
    "    print(\"=\"*20)"
   ]
  },
  {
   "cell_type": "code",
   "execution_count": null,
   "metadata": {},
   "outputs": [],
   "source": []
  }
 ],
 "metadata": {
  "kernelspec": {
   "display_name": "Python 3",
   "language": "python",
   "name": "python3"
  },
  "language_info": {
   "codemirror_mode": {
    "name": "ipython",
    "version": 3
   },
   "file_extension": ".py",
   "mimetype": "text/x-python",
   "name": "python",
   "nbconvert_exporter": "python",
   "pygments_lexer": "ipython3",
   "version": "3.7.0"
  }
 },
 "nbformat": 4,
 "nbformat_minor": 2
}
